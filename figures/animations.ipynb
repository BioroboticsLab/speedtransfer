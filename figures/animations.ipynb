{
 "cells": [
  {
   "cell_type": "markdown",
   "metadata": {},
   "source": [
    "This notebook contains code for animating activity propagation throughout the hive."
   ]
  },
  {
   "cell_type": "markdown",
   "metadata": {},
   "source": [
    "### Imports"
   ]
  },
  {
   "cell_type": "code",
   "execution_count": 1,
   "metadata": {},
   "outputs": [],
   "source": [
    "import os\n",
    "import sys\n",
    "\n",
    "parent_dir = os.path.abspath(os.path.join(os.getcwd(), \"..\"))\n",
    "sys.path.append(parent_dir)"
   ]
  },
  {
   "cell_type": "code",
   "execution_count": 2,
   "metadata": {},
   "outputs": [],
   "source": [
    "from pathlib import Path\n",
    "\n",
    "import imageio.v3 as iio\n",
    "import matplotlib.pyplot as plt\n",
    "import numpy as np\n",
    "import pandas as pd\n",
    "import seaborn as sns\n",
    "from bb_rhythm.interactions import filter_overlap\n",
    "from bb_rhythm.rhythm import circadian_cosine\n",
    "from PIL import Image\n",
    "\n",
    "import path_settings\n",
    "from analysis.speed_transfers import make_both_bees_focal\n",
    "from analysis.velocity_change_per_location import (\n",
    "    concat_grids_over_time,\n",
    "    replace_time_with_hour,\n",
    "    swap_focal_bee,\n",
    ")"
   ]
  },
  {
   "cell_type": "markdown",
   "metadata": {},
   "source": [
    "### Prepare Data"
   ]
  },
  {
   "cell_type": "code",
   "execution_count": 3,
   "metadata": {},
   "outputs": [
    {
     "data": {
      "text/html": [
       "<div>\n",
       "<style scoped>\n",
       "    .dataframe tbody tr th:only-of-type {\n",
       "        vertical-align: middle;\n",
       "    }\n",
       "\n",
       "    .dataframe tbody tr th {\n",
       "        vertical-align: top;\n",
       "    }\n",
       "\n",
       "    .dataframe thead th {\n",
       "        text-align: right;\n",
       "    }\n",
       "</style>\n",
       "<table border=\"1\" class=\"dataframe\">\n",
       "  <thead>\n",
       "    <tr style=\"text-align: right;\">\n",
       "      <th></th>\n",
       "      <th>x_pos_start_bee0</th>\n",
       "      <th>y_pos_start_bee0</th>\n",
       "      <th>x_pos_start_bee1</th>\n",
       "      <th>y_pos_start_bee1</th>\n",
       "      <th>vel_change_bee0</th>\n",
       "      <th>vel_change_bee1</th>\n",
       "      <th>phase_bee0</th>\n",
       "      <th>phase_bee1</th>\n",
       "      <th>hour</th>\n",
       "    </tr>\n",
       "  </thead>\n",
       "  <tbody>\n",
       "    <tr>\n",
       "      <th>0</th>\n",
       "      <td>53.4100</td>\n",
       "      <td>28.9561</td>\n",
       "      <td>54.4619</td>\n",
       "      <td>36.3934</td>\n",
       "      <td>0.106241</td>\n",
       "      <td>0.438786</td>\n",
       "      <td>-1.196545</td>\n",
       "      <td>-1.283345</td>\n",
       "      <td>3</td>\n",
       "    </tr>\n",
       "    <tr>\n",
       "      <th>2</th>\n",
       "      <td>59.6309</td>\n",
       "      <td>56.6406</td>\n",
       "      <td>52.3356</td>\n",
       "      <td>61.4632</td>\n",
       "      <td>1.837692</td>\n",
       "      <td>-0.537582</td>\n",
       "      <td>-0.564902</td>\n",
       "      <td>-1.279075</td>\n",
       "      <td>3</td>\n",
       "    </tr>\n",
       "    <tr>\n",
       "      <th>3</th>\n",
       "      <td>54.2329</td>\n",
       "      <td>72.6049</td>\n",
       "      <td>52.3356</td>\n",
       "      <td>61.4632</td>\n",
       "      <td>-1.808310</td>\n",
       "      <td>-0.501465</td>\n",
       "      <td>-0.525804</td>\n",
       "      <td>-1.279075</td>\n",
       "      <td>3</td>\n",
       "    </tr>\n",
       "    <tr>\n",
       "      <th>7</th>\n",
       "      <td>104.2940</td>\n",
       "      <td>31.6248</td>\n",
       "      <td>98.3685</td>\n",
       "      <td>23.8711</td>\n",
       "      <td>0.426386</td>\n",
       "      <td>-0.116344</td>\n",
       "      <td>-0.211704</td>\n",
       "      <td>-1.347064</td>\n",
       "      <td>3</td>\n",
       "    </tr>\n",
       "    <tr>\n",
       "      <th>9</th>\n",
       "      <td>116.1160</td>\n",
       "      <td>71.0969</td>\n",
       "      <td>118.6720</td>\n",
       "      <td>77.5160</td>\n",
       "      <td>0.397959</td>\n",
       "      <td>0.010605</td>\n",
       "      <td>-0.778305</td>\n",
       "      <td>-0.899531</td>\n",
       "      <td>3</td>\n",
       "    </tr>\n",
       "  </tbody>\n",
       "</table>\n",
       "</div>"
      ],
      "text/plain": [
       "   x_pos_start_bee0  y_pos_start_bee0  x_pos_start_bee1  y_pos_start_bee1  \\\n",
       "0           53.4100           28.9561           54.4619           36.3934   \n",
       "2           59.6309           56.6406           52.3356           61.4632   \n",
       "3           54.2329           72.6049           52.3356           61.4632   \n",
       "7          104.2940           31.6248           98.3685           23.8711   \n",
       "9          116.1160           71.0969          118.6720           77.5160   \n",
       "\n",
       "   vel_change_bee0  vel_change_bee1  phase_bee0  phase_bee1  hour  \n",
       "0         0.106241         0.438786   -1.196545   -1.283345     3  \n",
       "2         1.837692        -0.537582   -0.564902   -1.279075     3  \n",
       "3        -1.808310        -0.501465   -0.525804   -1.279075     3  \n",
       "7         0.426386        -0.116344   -0.211704   -1.347064     3  \n",
       "9         0.397959         0.010605   -0.778305   -0.899531     3  "
      ]
     },
     "execution_count": 3,
     "metadata": {},
     "output_type": "execute_result"
    }
   ],
   "source": [
    "df = pd.read_csv(\n",
    "    path_settings.INTERACTION_SIDE_0_DF_PATH_2019,\n",
    "    usecols=[\n",
    "        \"x_pos_start_bee0\",\n",
    "        \"x_pos_start_bee1\",\n",
    "        \"y_pos_start_bee0\",\n",
    "        \"y_pos_start_bee1\",\n",
    "        \"vel_change_bee0\",\n",
    "        \"vel_change_bee1\",\n",
    "        \"phase_bee0\",\n",
    "        \"phase_bee1\",\n",
    "        \"interaction_start\",\n",
    "        \"overlapping\",\n",
    "    ],\n",
    "    parse_dates=[\"interaction_start\"],\n",
    ")\n",
    "\n",
    "df = filter_overlap(df)\n",
    "df.drop(columns=[\"overlapping\"], inplace=True)\n",
    "df = replace_time_with_hour(df)\n",
    "df.head()"
   ]
  },
  {
   "cell_type": "code",
   "execution_count": 4,
   "metadata": {},
   "outputs": [
    {
     "data": {
      "text/html": [
       "<div>\n",
       "<style scoped>\n",
       "    .dataframe tbody tr th:only-of-type {\n",
       "        vertical-align: middle;\n",
       "    }\n",
       "\n",
       "    .dataframe tbody tr th {\n",
       "        vertical-align: top;\n",
       "    }\n",
       "\n",
       "    .dataframe thead th {\n",
       "        text-align: right;\n",
       "    }\n",
       "</style>\n",
       "<table border=\"1\" class=\"dataframe\">\n",
       "  <thead>\n",
       "    <tr style=\"text-align: right;\">\n",
       "      <th></th>\n",
       "      <th>x_grid</th>\n",
       "      <th>y_grid</th>\n",
       "      <th>vel_change</th>\n",
       "      <th>hour</th>\n",
       "    </tr>\n",
       "  </thead>\n",
       "  <tbody>\n",
       "    <tr>\n",
       "      <th>0</th>\n",
       "      <td>54</td>\n",
       "      <td>36</td>\n",
       "      <td>0.438786</td>\n",
       "      <td>3</td>\n",
       "    </tr>\n",
       "    <tr>\n",
       "      <th>1</th>\n",
       "      <td>60</td>\n",
       "      <td>57</td>\n",
       "      <td>1.837692</td>\n",
       "      <td>3</td>\n",
       "    </tr>\n",
       "    <tr>\n",
       "      <th>2</th>\n",
       "      <td>52</td>\n",
       "      <td>61</td>\n",
       "      <td>-0.501465</td>\n",
       "      <td>3</td>\n",
       "    </tr>\n",
       "    <tr>\n",
       "      <th>3</th>\n",
       "      <td>104</td>\n",
       "      <td>32</td>\n",
       "      <td>0.426386</td>\n",
       "      <td>3</td>\n",
       "    </tr>\n",
       "    <tr>\n",
       "      <th>4</th>\n",
       "      <td>116</td>\n",
       "      <td>71</td>\n",
       "      <td>0.397959</td>\n",
       "      <td>3</td>\n",
       "    </tr>\n",
       "  </tbody>\n",
       "</table>\n",
       "</div>"
      ],
      "text/plain": [
       "   x_grid  y_grid  vel_change  hour\n",
       "0      54      36    0.438786     3\n",
       "1      60      57    1.837692     3\n",
       "2      52      61   -0.501465     3\n",
       "3     104      32    0.426386     3\n",
       "4     116      71    0.397959     3"
      ]
     },
     "execution_count": 4,
     "metadata": {},
     "output_type": "execute_result"
    }
   ],
   "source": [
    "# Set the bee with the higher increase in velocity to be the focal one\n",
    "fast_focal_df = swap_focal_bee(df)\n",
    "fast_focal_df.head()"
   ]
  },
  {
   "cell_type": "code",
   "execution_count": 5,
   "metadata": {},
   "outputs": [
    {
     "data": {
      "text/html": [
       "<div>\n",
       "<style scoped>\n",
       "    .dataframe tbody tr th:only-of-type {\n",
       "        vertical-align: middle;\n",
       "    }\n",
       "\n",
       "    .dataframe tbody tr th {\n",
       "        vertical-align: top;\n",
       "    }\n",
       "\n",
       "    .dataframe thead th {\n",
       "        text-align: right;\n",
       "    }\n",
       "</style>\n",
       "<table border=\"1\" class=\"dataframe\">\n",
       "  <thead>\n",
       "    <tr style=\"text-align: right;\">\n",
       "      <th></th>\n",
       "      <th>x_grid</th>\n",
       "      <th>y_grid</th>\n",
       "      <th>phase</th>\n",
       "    </tr>\n",
       "  </thead>\n",
       "  <tbody>\n",
       "    <tr>\n",
       "      <th>0</th>\n",
       "      <td>53</td>\n",
       "      <td>28</td>\n",
       "      <td>-1.196545</td>\n",
       "    </tr>\n",
       "    <tr>\n",
       "      <th>2</th>\n",
       "      <td>59</td>\n",
       "      <td>56</td>\n",
       "      <td>-0.564902</td>\n",
       "    </tr>\n",
       "    <tr>\n",
       "      <th>3</th>\n",
       "      <td>54</td>\n",
       "      <td>72</td>\n",
       "      <td>-0.525804</td>\n",
       "    </tr>\n",
       "    <tr>\n",
       "      <th>7</th>\n",
       "      <td>104</td>\n",
       "      <td>31</td>\n",
       "      <td>-0.211704</td>\n",
       "    </tr>\n",
       "    <tr>\n",
       "      <th>9</th>\n",
       "      <td>116</td>\n",
       "      <td>71</td>\n",
       "      <td>-0.778305</td>\n",
       "    </tr>\n",
       "  </tbody>\n",
       "</table>\n",
       "</div>"
      ],
      "text/plain": [
       "   x_grid  y_grid     phase\n",
       "0      53      28 -1.196545\n",
       "2      59      56 -0.564902\n",
       "3      54      72 -0.525804\n",
       "7     104      31 -0.211704\n",
       "9     116      71 -0.778305"
      ]
     },
     "execution_count": 5,
     "metadata": {},
     "output_type": "execute_result"
    }
   ],
   "source": [
    "phase_df = make_both_bees_focal(\n",
    "    df[\n",
    "        [\n",
    "            \"x_pos_start_bee0\",\n",
    "            \"y_pos_start_bee0\",\n",
    "            \"phase_bee0\",\n",
    "            \"x_pos_start_bee1\",\n",
    "            \"y_pos_start_bee1\",\n",
    "            \"phase_bee1\",\n",
    "        ]\n",
    "    ],\n",
    "    var_list=[\"x_pos_start\", \"y_pos_start\", \"phase\"],\n",
    ")\n",
    "phase_df = phase_df.drop(\n",
    "    columns=[col for col in phase_df.columns if \"non_focal\" in col]\n",
    ")\n",
    "\n",
    "# Round the positions to int values\n",
    "phase_df[\"x_pos_start_focal\"] = phase_df[\"x_pos_start_focal\"].astype(int)\n",
    "phase_df[\"y_pos_start_focal\"] = phase_df[\"y_pos_start_focal\"].astype(int)\n",
    "\n",
    "# Rename for consistency\n",
    "phase_df.rename(\n",
    "    columns={\n",
    "        \"x_pos_start_focal\": \"x_grid\",\n",
    "        \"y_pos_start_focal\": \"y_grid\",\n",
    "        \"phase_focal\": \"phase\",\n",
    "    },\n",
    "    inplace=True,\n",
    ")\n",
    "phase_df.head()"
   ]
  },
  {
   "cell_type": "markdown",
   "metadata": {},
   "source": [
    "### Compute number of interactions and velocity change per location per hour"
   ]
  },
  {
   "cell_type": "code",
   "execution_count": 6,
   "metadata": {},
   "outputs": [],
   "source": [
    "n_interactions_per_loc = concat_grids_over_time(\n",
    "    fast_focal_df, var=\"vel_change\", aggfunc=\"count\", scale=True\n",
    ") # Shape (n_hours, hive_hight, hive_width)\n",
    "vel_change_per_loc = concat_grids_over_time(\n",
    "    fast_focal_df, var=\"vel_change\", aggfunc=\"median\", scale=True\n",
    ")  # Shape (n_hours, hive_hight, hive_width)"
   ]
  },
  {
   "cell_type": "markdown",
   "metadata": {},
   "source": [
    "### Compute cosine curves with constant amplitude per location"
   ]
  },
  {
   "cell_type": "code",
   "execution_count": null,
   "metadata": {},
   "outputs": [],
   "source": [
    "def get_curves_from_median_phase(df: pd.DataFrame) -> np.array:\n",
    "    \"\"\"Computes the median phase per location and generates cosine curves.\n",
    "\n",
    "    Args:\n",
    "        df (pd.DataFrame): DataFrame containing x_grid, y_grid, and phase columns.\n",
    "\n",
    "    Returns:\n",
    "        np.array: 3D array of cosine curves with shape (24, height, width).\n",
    "    \"\"\"\n",
    "\n",
    "    # Compute median phase at each location\n",
    "    phase_grid = df.pivot_table(\n",
    "        index=\"y_grid\", columns=\"x_grid\", values=\"phase\", aggfunc=\"median\"\n",
    "    ).to_numpy()\n",
    "\n",
    "    # Define time index for cosine curves\n",
    "    t_index = np.arange(-12, 12)\n",
    "\n",
    "    # Keep amplitude and offset constant to ensure range of [0,1]\n",
    "    amplitude = 0.5\n",
    "    offset = 0.5\n",
    "\n",
    "    # Generate cosine curves where phase is available\n",
    "    result = np.array(\n",
    "        [\n",
    "            [\n",
    "                circadian_cosine(t_index, amplitude, phase, offset, period=24)\n",
    "                if not np.isnan(phase)\n",
    "                else np.full(t_index.shape, np.nan)\n",
    "                for phase in row\n",
    "            ]\n",
    "            for row in phase_grid\n",
    "        ]\n",
    "    ).transpose(2, 0, 1)  # Reshape to (24, height, width)\n",
    "\n",
    "    return result"
   ]
  },
  {
   "cell_type": "code",
   "execution_count": 8,
   "metadata": {},
   "outputs": [],
   "source": [
    "curves_per_loc = get_curves_from_median_phase(phase_df)"
   ]
  },
  {
   "cell_type": "markdown",
   "metadata": {},
   "source": [
    "### Create Animations"
   ]
  },
  {
   "cell_type": "code",
   "execution_count": null,
   "metadata": {},
   "outputs": [],
   "source": [
    "def create_animation(\n",
    "    data: np.array, kind: str, output_format: str = \"gif\", fps: int = 6\n",
    ") -> None:\n",
    "    \"\"\"\n",
    "    Creates an animation (GIF or MP4) from heatmap data over time without saving frames to disk.\n",
    "\n",
    "    Args:\n",
    "        data (np.array): 3D array (n_hours x height x width) representing time-series data.\n",
    "        kind (str): Key to determine the colorbar label.\n",
    "        output_format (str): \"gif\" for GIF, \"mp4\" for high-quality video.\n",
    "        fps (int): Frames per second for the animation.\n",
    "    \"\"\"\n",
    "    # Ensure directory exists\n",
    "    animation_dir = Path(\"animations\")\n",
    "    animation_dir.mkdir(exist_ok=True)\n",
    "\n",
    "    labels = {\n",
    "        \"fit\": \"Value of fitted cosine curve (scaled)\",\n",
    "        \"vel_change\": \"Post-interaction velocity change (scaled)\",\n",
    "        \"n_interactions\": \"Number of interactions (scaled)\",\n",
    "    }\n",
    "\n",
    "    frames = []\n",
    "    n_hours = data.shape[0]\n",
    "\n",
    "    for h in range(n_hours):\n",
    "        fig, ax = plt.subplots(figsize=(8, 5), dpi=96)\n",
    "\n",
    "        # Get hour in AM/PM format\n",
    "        timelabel = f\"{h} am\" if h < 12 else f\"{h - 12} pm\" if h > 12 else \"12 pm\"\n",
    "\n",
    "        sns.heatmap(\n",
    "            data[h, :, :],\n",
    "            xticklabels=50,\n",
    "            yticklabels=50,\n",
    "            cmap=\"rocket\",\n",
    "            cbar=True,\n",
    "            cbar_kws={\"label\": labels[kind]},\n",
    "            alpha=0.95,\n",
    "            square=True,\n",
    "            ax=ax,\n",
    "            vmin=0,\n",
    "            vmax=1,\n",
    "            rasterized=True,\n",
    "            robust=True,\n",
    "        )\n",
    "        ax.set_xlabel(\"x position [mm]\")\n",
    "        ax.set_ylabel(\"y position [mm]\")\n",
    "        ax.set_title(timelabel)\n",
    "\n",
    "        # Convert figure to an image in memory\n",
    "        fig.canvas.draw()\n",
    "        image = Image.frombytes(\n",
    "            \"RGB\", fig.canvas.get_width_height(), fig.canvas.tostring_rgb()\n",
    "        )\n",
    "        frames.append(image)\n",
    "\n",
    "        plt.close()\n",
    "\n",
    "    output_path = animation_dir / f\"flow_{kind}.{output_format}\"\n",
    "\n",
    "    if output_format == \"gif\":\n",
    "        frames[0].save(\n",
    "            output_path,\n",
    "            save_all=True,\n",
    "            append_images=frames[1:],\n",
    "            duration=int(1000 / fps),  # Convert FPS to frame duration in milliseconds\n",
    "            loop=0,\n",
    "        )\n",
    "\n",
    "    elif output_format == \"mp4\":\n",
    "        n_loops = 5\n",
    "        # Convert frames to numpy arrays for MP4 creation\n",
    "        frames_np = [np.array(img) for img in frames] * n_loops\n",
    "        iio.imwrite(\n",
    "            output_path,\n",
    "            frames_np,\n",
    "            fps=fps,\n",
    "            plugin=\"FFMPEG\",\n",
    "            quality=9,\n",
    "        )\n",
    "\n",
    "    print(f\"Animation saved as {output_path}\")"
   ]
  },
  {
   "cell_type": "code",
   "execution_count": 20,
   "metadata": {},
   "outputs": [
    {
     "name": "stdout",
     "output_type": "stream",
     "text": [
      "Animation saved as flow_n_interactions.gif\n"
     ]
    }
   ],
   "source": [
    "create_animation(data=n_interactions_per_loc, kind=\"n_interactions\", output_format=\"gif\")"
   ]
  },
  {
   "cell_type": "markdown",
   "metadata": {},
   "source": [
    "<img src=\"animations/flow_n_interactions.gif\" width=\"650\" align=\"center\">"
   ]
  },
  {
   "cell_type": "code",
   "execution_count": 26,
   "metadata": {},
   "outputs": [
    {
     "name": "stdout",
     "output_type": "stream",
     "text": [
      "Animation saved as flow_vel_change.gif\n"
     ]
    }
   ],
   "source": [
    "create_animation(data=vel_change_per_loc, kind=\"vel_change\", output_format=\"gif\")"
   ]
  },
  {
   "cell_type": "markdown",
   "metadata": {},
   "source": [
    "<img src=\"animations/flow_vel_change.gif\" width=\"650\" align=\"center\">"
   ]
  },
  {
   "cell_type": "code",
   "execution_count": 24,
   "metadata": {},
   "outputs": [
    {
     "name": "stdout",
     "output_type": "stream",
     "text": [
      "Animation saved as flow_fit.gif\n"
     ]
    }
   ],
   "source": [
    "create_animation(data=curves_per_loc, kind=\"fit\", output_format=\"gif\")"
   ]
  },
  {
   "cell_type": "markdown",
   "metadata": {},
   "source": [
    "<img src=\"animations/flow_fit.gif\" width=\"650\" align=\"center\">"
   ]
  }
 ],
 "metadata": {
  "kernelspec": {
   "display_name": "circ",
   "language": "python",
   "name": "python3"
  },
  "language_info": {
   "codemirror_mode": {
    "name": "ipython",
    "version": 3
   },
   "file_extension": ".py",
   "mimetype": "text/x-python",
   "name": "python",
   "nbconvert_exporter": "python",
   "pygments_lexer": "ipython3",
   "version": "3.9.21"
  }
 },
 "nbformat": 4,
 "nbformat_minor": 2
}
