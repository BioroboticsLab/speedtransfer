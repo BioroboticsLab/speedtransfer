{
 "cells": [
  {
   "cell_type": "markdown",
   "metadata": {},
   "source": [
    "### Imports"
   ]
  },
  {
   "cell_type": "code",
   "execution_count": null,
   "metadata": {
    "is_executing": true
   },
   "outputs": [],
   "source": [
    "import numpy as np\n",
    "import pandas as pd\n",
    "import seaborn as sns\n",
    "import matplotlib.pyplot as plt\n",
    "import matplotlib\n",
    "import os\n",
    "from os.path import join\n",
    "from skimage import color, io\n",
    "\n",
    "if not os.path.exists('imgs'):\n",
    "    os.makedirs('imgs')"
   ]
  },
  {
   "cell_type": "markdown",
   "metadata": {},
   "source": [
    "### Speed transfers in relation to start velocity and phase of interacting bees"
   ]
  },
  {
   "cell_type": "code",
   "execution_count": 2,
   "metadata": {},
   "outputs": [],
   "source": [
    "def plot_binned_speed_changes(matrix, save_to=None, binning_var='start_vel',\n",
    "                              null=False):\n",
    "    \n",
    "    matplotlib.rcParams.update({'font.size': 5, 'ytick.major.size': 1,\n",
    "                                'ytick.major.width': 0.4, 'font.sans-serif': 'Arial'})\n",
    "    \n",
    "    fig, axs = plt.subplots(1, 1, figsize=(1.67, 1.67), dpi=300)\n",
    "    \n",
    "    # Set labels and title.\n",
    "    label = 'Speed change of focal bee [mm/s]'\n",
    "    bin_label = 'Start velocity' if binning_var == 'start_vel' else 'Time of peak activity\\n'\n",
    "    title = 'Null-model' if null else 'Real data'\n",
    "    unit = f'[$n$th 6-quantile]'\n",
    "    \n",
    "    # Colorbar settings.\n",
    "    cbar_kws = {'label': label, 'shrink': 0.8}\n",
    "    if binning_var == 'phase':\n",
    "        cbar_kws['ticks'] = [0.04, 0.05]\n",
    "    else:\n",
    "        cbar_kws['ticks'] = [-0.9,-0.6,-0.3,0,0.3]\n",
    "        \n",
    "    # Set constant colormap range for real data and null-model.\n",
    "    color_range = (-1.02, 0.4) if binning_var == 'start_vel' else (0.0395, 0.055)\n",
    "    \n",
    "    # Plot.\n",
    "    sns.heatmap(matrix, annot=False, cmap='viridis', robust=True, ax=axs,\n",
    "                cbar_kws=cbar_kws, linewidths=0, alpha=0.95,\n",
    "                vmin=color_range[0], vmax=color_range[1])\n",
    "    \n",
    "    axs.invert_yaxis()\n",
    "    axs.set(xlabel=f'{bin_label} of focal bee {unit}',\n",
    "            ylabel=f'{bin_label} of non-focal bee {unit}',\n",
    "            title=title)\n",
    "    axs.tick_params(size=0)\n",
    "\n",
    "    # Save as vector graphic.\n",
    "    if save_to:\n",
    "        plt.savefig(save_to + '.svg', bbox_inches='tight')\n",
    "    plt.show()    "
   ]
  }
 ],
 "metadata": {
  "kernelspec": {
   "display_name": "circ",
   "language": "python",
   "name": "python3"
  },
  "language_info": {
   "codemirror_mode": {
    "name": "ipython",
    "version": 3
   },
   "file_extension": ".py",
   "mimetype": "text/x-python",
   "name": "python",
   "nbconvert_exporter": "python",
   "pygments_lexer": "ipython3",
   "version": "3.11.4"
  },
  "orig_nbformat": 4
 },
 "nbformat": 4,
 "nbformat_minor": 2
}
